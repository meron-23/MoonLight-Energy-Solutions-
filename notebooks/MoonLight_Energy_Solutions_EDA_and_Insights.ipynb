{
  "nbformat": 4,
  "nbformat_minor": 0,
  "metadata": {
    "colab": {
      "provenance": []
    },
    "kernelspec": {
      "name": "python3",
      "display_name": "Python 3"
    },
    "language_info": {
      "name": "python"
    }
  },
  "cells": [
    {
      "cell_type": "markdown",
      "source": [
        "Summary Statistics"
      ],
      "metadata": {
        "id": "nPRypgyWA7TY"
      }
    },
    {
      "cell_type": "code",
      "source": [
        "# Importing necessary libraries\n",
        "import pandas as pd\n",
        "\n",
        "# Load the dataset\n",
        "df_benin = pd.read_csv('benin-malanville.csv')\n",
        "df_sierraleone = pd.read_csv('sierraleone-bumbuna.csv')\n",
        "df_togo = pd.read_csv('togo-dapaong_qc.csv')\n",
        "\n"
      ],
      "metadata": {
        "id": "RqP1ga9GA-q0"
      },
      "execution_count": null,
      "outputs": []
    },
    {
      "cell_type": "code",
      "source": [
        "# Summary statistics\n",
        "df_benin.describe()"
      ],
      "metadata": {
        "id": "WPGIT-oJBWk6"
      },
      "execution_count": null,
      "outputs": []
    },
    {
      "cell_type": "code",
      "source": [
        "# Summary statistics\n",
        "df_sierraleone.describe()"
      ],
      "metadata": {
        "id": "_87NWUmLBXfQ"
      },
      "execution_count": null,
      "outputs": []
    },
    {
      "cell_type": "code",
      "source": [
        "# Summary statistics\n",
        "df_togo.describe()"
      ],
      "metadata": {
        "id": "1ixgHM2LBYBt"
      },
      "execution_count": null,
      "outputs": []
    },
    {
      "cell_type": "markdown",
      "source": [
        "Data Quality Check"
      ],
      "metadata": {
        "id": "4pwvUEJICB8C"
      }
    },
    {
      "cell_type": "code",
      "source": [
        "def quality_check(df):\n",
        "  # Check for missing values\n",
        "  missing_values = df.isnull().sum()\n",
        "  print(\"Missing Values:\")\n",
        "  print(missing_values)\n",
        "\n",
        "  # Check for negative values in columns that should only have positive values\n",
        "  numeric_cols = ['GHI', 'DNI', 'DHI', 'ModA', 'ModB', 'WS', 'WSgust']\n",
        "  negative_values = {col: df[df[col] < 0].shape[0] for col in numeric_cols}\n",
        "  print(\"Negative Values Count:\")\n",
        "  print(negative_values)\n",
        "\n",
        "  # Check for outliers using the IQR method\n",
        "  Q1 = df[numeric_cols].quantile(0.25)\n",
        "  Q3 = df[numeric_cols].quantile(0.75)\n",
        "  IQR = Q3 - Q1\n",
        "  outliers = ((df[numeric_cols] < (Q1 - 1.5 * IQR)) | (df[numeric_cols] > (Q3 + 1.5 * IQR))).sum()\n",
        "  print(\"Outliers Count:\")\n",
        "  print(outliers)\n"
      ],
      "metadata": {
        "id": "ve9NFHqyB-pP"
      },
      "execution_count": null,
      "outputs": []
    },
    {
      "cell_type": "code",
      "source": [
        "quality_check(df_benin)"
      ],
      "metadata": {
        "id": "yRcPviLDDpRX"
      },
      "execution_count": null,
      "outputs": []
    },
    {
      "cell_type": "code",
      "source": [
        "quality_check(df_sierraleone)"
      ],
      "metadata": {
        "id": "0nHPx_V5DuTQ"
      },
      "execution_count": null,
      "outputs": []
    },
    {
      "cell_type": "code",
      "source": [
        "quality_check(df_togo)"
      ],
      "metadata": {
        "id": "N7rHm0NbDwCM"
      },
      "execution_count": null,
      "outputs": []
    },
    {
      "cell_type": "markdown",
      "source": [
        "Time Series Analysis"
      ],
      "metadata": {
        "id": "TgBOi27XCG1-"
      }
    },
    {
      "cell_type": "code",
      "source": [
        "import matplotlib.pyplot as plt\n",
        "\n",
        "def time_analysis(df):\n",
        "  # Convert Timestamp column to datetime\n",
        "  df['Timestamp'] = pd.to_datetime(df['Timestamp'])\n",
        "\n",
        "  # Plot GHI, DNI, DHI, and Tamb over time\n",
        "  fig, ax = plt.subplots(4, 1, figsize=(12, 16))\n",
        "  variables = ['GHI', 'DNI', 'DHI', 'Tamb']\n",
        "\n",
        "  for i, var in enumerate(variables):\n",
        "      ax[i].plot(df['Timestamp'], df[var])\n",
        "      ax[i].set_title(f'{var} Over Time')\n",
        "      ax[i].set_xlabel('Time')\n",
        "      ax[i].set_ylabel(var)\n",
        "\n",
        "  plt.tight_layout()\n",
        "  plt.show()\n"
      ],
      "metadata": {
        "id": "91UNUGSYB_o2"
      },
      "execution_count": null,
      "outputs": []
    },
    {
      "cell_type": "code",
      "source": [
        "time_analysis(df_benin)"
      ],
      "metadata": {
        "id": "1z5e3-QvD_9T"
      },
      "execution_count": null,
      "outputs": []
    },
    {
      "cell_type": "code",
      "source": [
        "time_analysis(df_sierraleone)"
      ],
      "metadata": {
        "id": "fM5_Y5qeEAJ0"
      },
      "execution_count": null,
      "outputs": []
    },
    {
      "cell_type": "code",
      "source": [
        "time_analysis(df_togo)"
      ],
      "metadata": {
        "id": "fU67dlaNEATr"
      },
      "execution_count": null,
      "outputs": []
    },
    {
      "cell_type": "markdown",
      "source": [
        "Evaluating the impact of cleaning"
      ],
      "metadata": {
        "id": "D7OZiRS5CSz7"
      }
    },
    {
      "cell_type": "code",
      "source": [
        "import seaborn as sns\n",
        "\n",
        "def cleaning_impact(df):\n",
        "\n",
        "  # Boxplot to compare sensor readings before and after cleaning\n",
        "  fig, ax = plt.subplots(1, 2, figsize=(12, 6))\n",
        "  sns.boxplot(x='Cleaning', y='ModA', data=df, ax=ax[0])\n",
        "  sns.boxplot(x='Cleaning', y='ModB', data=df, ax=ax[1])\n",
        "\n",
        "  ax[0].set_title('Impact of Cleaning on ModA')\n",
        "  ax[1].set_title('Impact of Cleaning on ModB')\n",
        "\n",
        "  plt.show()\n"
      ],
      "metadata": {
        "id": "ZmhDUbFuCbqW"
      },
      "execution_count": null,
      "outputs": []
    },
    {
      "cell_type": "code",
      "source": [
        "cleaning_impact(df_benin)"
      ],
      "metadata": {
        "id": "hmyaMtD4EgSe"
      },
      "execution_count": null,
      "outputs": []
    },
    {
      "cell_type": "code",
      "source": [
        "cleaning_impact(df_sierraleone)"
      ],
      "metadata": {
        "id": "-pUWIM50EghL"
      },
      "execution_count": null,
      "outputs": []
    },
    {
      "cell_type": "code",
      "source": [
        "cleaning_impact(df_togo)"
      ],
      "metadata": {
        "id": "j2MmzwbrEgv8"
      },
      "execution_count": null,
      "outputs": []
    },
    {
      "cell_type": "markdown",
      "source": [
        "Correlation Analysis"
      ],
      "metadata": {
        "id": "xgEsGQI6Ccv8"
      }
    },
    {
      "cell_type": "code",
      "source": [
        "def corr_analysis(df):\n",
        "  # Correlation matrix\n",
        "  correlation_matrix = df[['GHI', 'DNI', 'DHI', 'TModA', 'TModB', 'WS', 'WSgust']].corr()\n",
        "  sns.heatmap(correlation_matrix, annot=True, cmap='coolwarm', fmt='.2f')\n",
        "  plt.title('Correlation Matrix')\n",
        "  plt.show()\n",
        "\n",
        "  # Scatter plot matrix\n",
        "  sns.pairplot(df[['GHI', 'DNI', 'DHI', 'TModA', 'TModB', 'WS', 'WSgust']])\n",
        "  plt.show()\n"
      ],
      "metadata": {
        "id": "TjiUbPRfCkZQ"
      },
      "execution_count": null,
      "outputs": []
    },
    {
      "cell_type": "code",
      "source": [
        "corr_analysis(df_benin)"
      ],
      "metadata": {
        "id": "MwpcOnvjGNo5"
      },
      "execution_count": null,
      "outputs": []
    },
    {
      "cell_type": "code",
      "source": [
        "corr_analysis(df_sierraleone)"
      ],
      "metadata": {
        "id": "evtUd2isGN_6"
      },
      "execution_count": null,
      "outputs": []
    },
    {
      "cell_type": "code",
      "source": [
        "corr_analysis(df_togo)"
      ],
      "metadata": {
        "id": "b6bx4wezGOKf"
      },
      "execution_count": null,
      "outputs": []
    },
    {
      "cell_type": "markdown",
      "source": [
        "Temprature Analysis"
      ],
      "metadata": {
        "id": "-zJvl4U2C4FV"
      }
    },
    {
      "cell_type": "code",
      "source": [
        "def temp_analysis(df):\n",
        "  # Scatter plot of RH vs Tamb and GHI\n",
        "  fig, ax = plt.subplots(1, 2, figsize=(12, 6))\n",
        "\n",
        "  sns.scatterplot(x='RH', y='Tamb', data=df, ax=ax[0])\n",
        "  ax[0].set_title('Relative Humidity vs. Ambient Temperature')\n",
        "\n",
        "  sns.scatterplot(x='RH', y='GHI', data=df, ax=ax[1])\n",
        "  ax[1].set_title('Relative Humidity vs. Global Horizontal Irradiance')\n",
        "\n",
        "  plt.tight_layout()\n",
        "  plt.show()\n"
      ],
      "metadata": {
        "id": "gxeRwl93C4UZ"
      },
      "execution_count": null,
      "outputs": []
    },
    {
      "cell_type": "code",
      "source": [
        "temp_analysis(df_benin)"
      ],
      "metadata": {
        "id": "YLlulj_5F9O6"
      },
      "execution_count": null,
      "outputs": []
    },
    {
      "cell_type": "code",
      "source": [
        "temp_analysis(df_sierraleone)"
      ],
      "metadata": {
        "id": "I7yUkbu7F9Sg"
      },
      "execution_count": null,
      "outputs": []
    },
    {
      "cell_type": "code",
      "source": [
        "temp_analysis(df_togo)"
      ],
      "metadata": {
        "id": "qhoOLiS3F9W0"
      },
      "execution_count": null,
      "outputs": []
    },
    {
      "cell_type": "markdown",
      "source": [
        "Histograms"
      ],
      "metadata": {
        "id": "IJjrEGYYDAKE"
      }
    },
    {
      "cell_type": "code",
      "source": [
        "# Create histograms for selected variables\n",
        "def histogram(df):\n",
        "  variables = ['GHI', 'DNI', 'DHI', 'WS', 'Tamb']\n",
        "  df[variables].hist(bins=30, figsize=(12, 8))\n",
        "  plt.suptitle('Histograms of Selected Variables', y=0.95)\n",
        "  plt.show()"
      ],
      "metadata": {
        "id": "lBb2edBKDBsc"
      },
      "execution_count": null,
      "outputs": []
    },
    {
      "cell_type": "code",
      "source": [
        "histogram(df_benin)"
      ],
      "metadata": {
        "id": "Mu6BQsGwFrpf"
      },
      "execution_count": null,
      "outputs": []
    },
    {
      "cell_type": "code",
      "source": [
        "histogram(df_sierraleone)"
      ],
      "metadata": {
        "id": "dZe2XkuHFrsw"
      },
      "execution_count": null,
      "outputs": []
    },
    {
      "cell_type": "code",
      "source": [
        "histogram(df_togo)"
      ],
      "metadata": {
        "id": "hqEyLzTsFrwB"
      },
      "execution_count": null,
      "outputs": []
    },
    {
      "cell_type": "markdown",
      "source": [
        "Z-score Analysis"
      ],
      "metadata": {
        "id": "LXCONG2XDDNU"
      }
    },
    {
      "cell_type": "code",
      "source": [
        "from scipy.stats import zscore\n",
        "\n",
        "def z_score(df):\n",
        "  # Calculate Z-scores\n",
        "  df['GHI_zscore'] = zscore(df['GHI'])\n",
        "  df['DNI_zscore'] = zscore(df['DNI'])\n",
        "\n",
        "  # Flag outliers\n",
        "  outliers = df[(df['GHI_zscore'].abs() > 3) | (df['DNI_zscore'].abs() > 3)]\n",
        "  print(\"Outliers based on Z-score:\")\n",
        "  print(outliers)"
      ],
      "metadata": {
        "id": "rtanporbDI01"
      },
      "execution_count": null,
      "outputs": []
    },
    {
      "cell_type": "code",
      "source": [
        "z_score(df_benin)"
      ],
      "metadata": {
        "id": "qWDekoB9FYjD"
      },
      "execution_count": null,
      "outputs": []
    },
    {
      "cell_type": "code",
      "source": [
        "z_score(df_sierraleone)"
      ],
      "metadata": {
        "id": "6itua7mFFYmg"
      },
      "execution_count": null,
      "outputs": []
    },
    {
      "cell_type": "code",
      "source": [
        "z_score(df_togo)"
      ],
      "metadata": {
        "id": "p3brJoO9FYqX"
      },
      "execution_count": null,
      "outputs": []
    },
    {
      "cell_type": "markdown",
      "source": [
        "Bubble charts"
      ],
      "metadata": {
        "id": "QXldF7WUDLLF"
      }
    },
    {
      "cell_type": "code",
      "source": [
        "def bubble_chart(df):\n",
        "  # Bubble chart for GHI vs Tamb vs WS with bubble size as RH\n",
        "  plt.figure(figsize=(12, 8))\n",
        "  bubble_size = df['RH'] / 10  # Scale bubble sizes\n",
        "  plt.scatter(df['GHI'], df['Tamb'], s=bubble_size, alpha=0.5, c=df['WS'], cmap='viridis')\n",
        "  plt.colorbar(label='Wind Speed (m/s)')\n",
        "  plt.xlabel('GHI')\n",
        "  plt.ylabel('Tamb')\n",
        "  plt.title('Bubble Chart: GHI vs Tamb with Bubble Size as RH')\n",
        "  plt.show()"
      ],
      "metadata": {
        "id": "6N93odIHDOtm"
      },
      "execution_count": null,
      "outputs": []
    },
    {
      "cell_type": "code",
      "source": [
        "bubble_chart(df_benin)"
      ],
      "metadata": {
        "id": "cUVNJULoFHtr"
      },
      "execution_count": null,
      "outputs": []
    },
    {
      "cell_type": "code",
      "source": [
        "bubble_chart(df_sierraleone)"
      ],
      "metadata": {
        "id": "n8xh1CCWFIMN"
      },
      "execution_count": null,
      "outputs": []
    },
    {
      "cell_type": "code",
      "source": [
        "bubble_chart(df_togo)"
      ],
      "metadata": {
        "id": "T2brSmU0FIjj"
      },
      "execution_count": null,
      "outputs": []
    },
    {
      "cell_type": "markdown",
      "source": [
        "Data cleaning"
      ],
      "metadata": {
        "id": "iwg-T3teDSEZ"
      }
    },
    {
      "cell_type": "code",
      "source": [
        "# Handling missing values\n",
        "def cleaning(df):\n",
        "  df.fillna(df.median(), inplace=True)  # Replace missing values with median\n",
        "\n",
        "  # Drop irrelevant columns\n",
        "  df.drop(columns=['Comments'], inplace=True)\n",
        "\n",
        "  # Handle negative values\n",
        "  for col in numeric_cols:\n",
        "      df[col] = df[col].apply(lambda x: max(x, 0))  # Replace negatives with 0\n",
        "\n",
        "  print(\"Data cleaned successfully.\")\n"
      ],
      "metadata": {
        "id": "4kP7GEa0DUAe"
      },
      "execution_count": null,
      "outputs": []
    },
    {
      "cell_type": "code",
      "source": [
        "cleaning(df_benin)"
      ],
      "metadata": {
        "id": "W7tYpe0vE4Fh"
      },
      "execution_count": null,
      "outputs": []
    },
    {
      "cell_type": "code",
      "source": [
        "cleaning(df_sierraleone)"
      ],
      "metadata": {
        "id": "Ojv8KEeEE4Pp"
      },
      "execution_count": null,
      "outputs": []
    },
    {
      "cell_type": "code",
      "source": [
        "cleaning(togo)"
      ],
      "metadata": {
        "id": "A_IAZxbpE4Zx"
      },
      "execution_count": null,
      "outputs": []
    }
  ]
}